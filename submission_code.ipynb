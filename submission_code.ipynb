{
 "cells": [
  {
   "cell_type": "code",
   "execution_count": 1,
   "metadata": {},
   "outputs": [],
   "source": [
    "import numpy as np\n",
    "import pandas as pd\n",
    "import torch\n",
    "import torch.nn as nn\n",
    "import torch.nn.functional as F\n",
    "from torch.autograd.variable import Variable\n",
    "from sklearn.metrics import mean_squared_error\n",
    "from sklearn import preprocessing\n",
    "from sklearn import metrics\n",
    "from skorch import NeuralNetClassifier\n",
    "import warnings\n",
    "import random\n",
    "warnings.filterwarnings(action='ignore')"
   ]
  },
  {
   "cell_type": "code",
   "execution_count": 25,
   "metadata": {},
   "outputs": [],
   "source": [
    "df = pd.read_csv(\"train.csv\")\n",
    "df_test = pd.read_csv(\"test.csv\")"
   ]
  },
  {
   "cell_type": "markdown",
   "metadata": {},
   "source": [
    "# Add additional data"
   ]
  },
  {
   "cell_type": "code",
   "execution_count": 26,
   "metadata": {},
   "outputs": [],
   "source": [
    "correct = pd.read_csv(\"new_true_scores_compared_to_old_with_int_index.csv\")\n",
    "df_temp = df_test.set_index('id').join(correct[[\"id\", \"assumed_true_score\"]].set_index('id'))\n",
    "df_temp = df_temp.dropna()\n",
    "df_temp.reset_index(level=0, inplace=True)\n",
    "df_temp.rename(columns = {\"assumed_true_score\" : \"time\"},inplace=True)\n",
    "df = pd.concat([df,df_temp],axis=0)"
   ]
  },
  {
   "cell_type": "markdown",
   "metadata": {},
   "source": [
    "# Feature engineering"
   ]
  },
  {
   "cell_type": "code",
   "execution_count": 27,
   "metadata": {},
   "outputs": [],
   "source": [
    "categorical_features = [\"penalty\",\"n_jobs\", \"alpha\", \"n_classes\", \"n_informative\", \"n_clusters_per_class\"]\n",
    "\n",
    "labels = df[\"time\"].values\n",
    "df = df.drop([\"time\"], axis=1)\n",
    "continuous_features = [key for key in dict(df.dtypes) if dict(df.dtypes)[key] in ['float64', 'int64']]\n",
    "continuous_features = [x for x in continuous_features if x not in categorical_features]\n",
    "\n",
    "# change values in some columns because I found that there is no difference to the final result if those values are changed\n",
    "df_len = len(df)\n",
    "temp = pd.concat([df, df_test])\n",
    "temp.loc[temp[\"n_jobs\"] == -1, \"n_jobs\"] = 16\n",
    "temp.loc[temp[\"penalty\"] == \"elasticnet\", \"penalty\"] = \"l1\"\n",
    "temp.loc[temp[\"penalty\"] == \"l2\", \"penalty\"] = \"none\"\n",
    "\n",
    "# Create a new column to emphasize the importance of some columns\n",
    "new_col = pd.Series(temp[\"n_samples\"] * temp[\"n_features\"] / temp[\"n_jobs\"],name=\"samp_times_features_div_njobs\")\n",
    "temp = pd.concat( [temp,new_col], axis=1)\n",
    "continuous_features.append(\"samp_times_features_div_njobs\")\n",
    "\n",
    "temp[categorical_features] = temp[categorical_features].astype(\"category\")\n",
    "temp[continuous_features] = temp[continuous_features].astype(\"float32\")\n",
    "\n",
    "# Drop some columns because they are not related to the time\n",
    "to_drop = [\n",
    "    \"id\",\n",
    "    \"random_state\",\n",
    "    \"l1_ratio\",\n",
    "    \"alpha\",\n",
    "    \"flip_y\",\n",
    "    \"scale\",\n",
    "    \"n_clusters_per_class\",\n",
    "    \"n_informative\"\n",
    "]\n",
    "categorical_features = [x for x in categorical_features if x not in to_drop]\n",
    "continuous_features = [x for x in continuous_features if x not in to_drop]\n",
    "\n",
    "temp_cat = temp[categorical_features]\n",
    "temp = temp.drop(to_drop, axis=1)"
   ]
  },
  {
   "cell_type": "markdown",
   "metadata": {},
   "source": [
    "# Scaling continuous variables and one-hot encoding categorical"
   ]
  },
  {
   "cell_type": "code",
   "execution_count": 28,
   "metadata": {},
   "outputs": [],
   "source": [
    "scaler = preprocessing.StandardScaler(with_mean = 0, with_std = 1)\n",
    "scaled_temp = scaler.fit(temp[continuous_features].iloc[:df_len].values)\n",
    "scaled_temp = scaler.transform(temp[continuous_features].values)\n",
    "\n",
    "temp_continuous = pd.DataFrame(scaled_temp, index=temp[continuous_features].index, columns=temp[continuous_features].columns)\n",
    "one_hot = pd.get_dummies(temp[categorical_features])\n",
    "\n",
    "temp = pd.concat([pd.DataFrame(temp_continuous), (one_hot)],axis=1)"
   ]
  },
  {
   "cell_type": "code",
   "execution_count": 29,
   "metadata": {},
   "outputs": [],
   "source": [
    "df = temp.iloc[:df_len]\n",
    "df_test = temp.iloc[df_len:]"
   ]
  },
  {
   "cell_type": "markdown",
   "metadata": {},
   "source": [
    "# pytorch"
   ]
  },
  {
   "cell_type": "code",
   "execution_count": 30,
   "metadata": {},
   "outputs": [],
   "source": [
    "predic_list = []"
   ]
  },
  {
   "cell_type": "code",
   "execution_count": 31,
   "metadata": {},
   "outputs": [],
   "source": [
    "class Model(nn.Module):\n",
    "    def __init__(self):\n",
    "        super(Model, self).__init__()\n",
    "        self.l1 = nn.Linear(20,100)\n",
    "        self.l2 = nn.Linear(100,10)\n",
    "        self.l3 = nn.Linear(10,1)\n",
    "    \n",
    "    def forward(self, x, **kwargs):\n",
    "        x = F.relu(self.l1(x))\n",
    "        x = F.relu(self.l2(x))\n",
    "        x = (self.l3(x))\n",
    "        return x"
   ]
  },
  {
   "cell_type": "markdown",
   "metadata": {},
   "source": [
    "# My implementation of cross validation for pytorch"
   ]
  },
  {
   "cell_type": "code",
   "execution_count": 32,
   "metadata": {},
   "outputs": [],
   "source": [
    "np.random.seed(42)\n",
    "indx = np.random.permutation(len(labels))\n",
    "size = int(len(labels)*0.10)\n",
    "test_index = [indx[i * size : (i+1) * size] for i in range(10)]\n",
    "train_index = [np.setdiff1d(indx,test_index[i]) for i in range(10)]\n",
    "# indx[0 * size : (0+1) * size]\n",
    "lis = list(zip(train_index,test_index))"
   ]
  },
  {
   "cell_type": "code",
   "execution_count": 35,
   "metadata": {},
   "outputs": [
    {
     "name": "stdout",
     "output_type": "stream",
     "text": [
      "1.2043107595976739\n",
      "1.4475563122736557\n",
      "0.263923613536452\n",
      "0.38620975670180735\n",
      "2.0293261800499516\n",
      "0.6599051708157685\n",
      "1.2308950604428193\n",
      "0.7988324035058908\n",
      "0.29729041094352976\n",
      "1.2128143540262823\n"
     ]
    }
   ],
   "source": [
    "loss_fn = torch.nn.MSELoss()\n",
    "for train_index, test_index in lis:\n",
    "    X_train = Variable(torch.tensor(df.values[train_index]).float())\n",
    "    y_train = Variable(torch.tensor(labels[train_index].reshape(-1,1)).float())\n",
    "    X_test = Variable(torch.tensor(df.values[test_index]).float())\n",
    "    model = Model()\n",
    "    optimizer = torch.optim.Adam(model.parameters(), lr = 0.0005)\n",
    "    for i in range(15000):\n",
    "        y_pred = model(X_train)\n",
    "        loss = loss_fn(y_pred, y_train)\n",
    "        optimizer.zero_grad()\n",
    "        loss.backward()\n",
    "        optimizer.step()\n",
    "    preds = model(X_test)\n",
    "    loss = metrics.mean_squared_error(preds.detach().numpy(), labels[test_index])\n",
    "    print(loss)"
   ]
  },
  {
   "cell_type": "code",
   "execution_count": 36,
   "metadata": {},
   "outputs": [
    {
     "data": {
      "text/plain": [
       "array([ 1.610e+00,  1.023e+01,  2.200e-01,  1.710e+00,  3.430e+00,\n",
       "        9.220e+00,  2.510e+00,  6.100e-01,  1.493e+01,  4.900e-01,\n",
       "        5.290e+00,  1.345e+01,  1.010e+00,  3.266e+01,  2.600e-01,\n",
       "        6.400e-01,  6.100e-01,  6.740e+00,  3.250e+00,  4.200e+00,\n",
       "        2.200e-01,  5.200e-01,  6.300e-01,  8.100e-01,  1.150e+00,\n",
       "        2.420e+00,  1.320e+00,  3.520e+00,  2.110e+00,  1.740e+00,\n",
       "        2.049e+01,  3.120e+00,  3.900e-01,  1.234e+01,  6.840e+00,\n",
       "        1.060e+00,  3.850e+00,  2.750e+00, -3.000e-02,  2.160e+00,\n",
       "        5.280e+00,  1.186e+01,  7.600e-01,  4.700e+00,  6.500e-01,\n",
       "        1.470e+00,  3.740e+00,  5.100e-01,  9.020e+00,  7.500e-01,\n",
       "        2.200e-01,  1.964e+01,  2.200e-01,  7.050e+00,  9.760e+00,\n",
       "        2.200e-01,  1.010e+00,  1.040e+00,  1.120e+00,  3.600e-01,\n",
       "        1.810e+00,  6.490e+00,  7.700e-01,  7.040e+00,  3.710e+00,\n",
       "        9.140e+00,  1.220e+00,  7.300e-01,  8.220e+00,  1.250e+00,\n",
       "        2.200e-01,  1.110e+00,  1.111e+01,  2.200e-01,  5.990e+00,\n",
       "        5.870e+00,  1.720e+00,  4.320e+00,  3.910e+00,  1.760e+00,\n",
       "        7.160e+00,  4.420e+00,  5.880e+00,  4.600e-01,  1.310e+00,\n",
       "        4.600e+00,  5.190e+00,  2.200e-01,  5.880e+00,  1.030e+00,\n",
       "        2.500e+00,  1.270e+00,  1.460e+00,  1.526e+01,  6.810e+00,\n",
       "        4.130e+00,  3.834e+01,  2.200e-01,  4.700e-01,  2.200e-01],\n",
       "      dtype=float32)"
      ]
     },
     "execution_count": 36,
     "metadata": {},
     "output_type": "execute_result"
    }
   ],
   "source": [
    "torch_test = Variable(torch.tensor(df_test.values).float())\n",
    "preds = model(torch_test)\n",
    "np.round(preds.squeeze(1).detach().numpy(),2)"
   ]
  },
  {
   "cell_type": "markdown",
   "metadata": {},
   "source": [
    "#### If results don't have negative values in them and seem ok append to the list"
   ]
  },
  {
   "cell_type": "code",
   "execution_count": 37,
   "metadata": {},
   "outputs": [],
   "source": [
    "predic_list.append(preds.squeeze(1).detach().numpy())\n",
    "# Take average\n",
    "my_pred = [np.mean(i) for i in zip(*predic_list)]"
   ]
  },
  {
   "cell_type": "code",
   "execution_count": 305,
   "metadata": {},
   "outputs": [],
   "source": [
    "res_csv = pd.DataFrame(my_pred,columns=[\"time\"])\n",
    "res_csv.to_csv(\"submission1.csv\", index = True,index_label=\"id\", header=True)"
   ]
  }
 ],
 "metadata": {
  "kernelspec": {
   "display_name": "fastai",
   "language": "python",
   "name": "myenv"
  },
  "language_info": {
   "codemirror_mode": {
    "name": "ipython",
    "version": 3
   },
   "file_extension": ".py",
   "mimetype": "text/x-python",
   "name": "python",
   "nbconvert_exporter": "python",
   "pygments_lexer": "ipython3",
   "version": "3.6.6"
  }
 },
 "nbformat": 4,
 "nbformat_minor": 2
}
